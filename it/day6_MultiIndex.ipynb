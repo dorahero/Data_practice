{
 "metadata": {
  "language_info": {
   "codemirror_mode": {
    "name": "ipython",
    "version": 3
   },
   "file_extension": ".py",
   "mimetype": "text/x-python",
   "name": "python",
   "nbconvert_exporter": "python",
   "pygments_lexer": "ipython3",
   "version": "3.7.5"
  },
  "orig_nbformat": 2,
  "kernelspec": {
   "name": "python3",
   "display_name": "Python 3.7.5  ('env': venv)",
   "metadata": {
    "interpreter": {
     "hash": "834c2e519a11426be8a684674ded89a6e56a1b68dae6f9fc10961d7ac58e3b56"
    }
   }
  }
 },
 "nbformat": 4,
 "nbformat_minor": 2,
 "cells": [
  {
   "cell_type": "code",
   "execution_count": 1,
   "metadata": {},
   "outputs": [],
   "source": [
    "import numpy as np\n",
    "import pandas as pd"
   ]
  },
  {
   "cell_type": "code",
   "execution_count": 24,
   "metadata": {},
   "outputs": [
    {
     "output_type": "execute_result",
     "data": {
      "text/plain": [
       "(California, 2000)     300000000\n",
       "(California, 2010)    3545788006\n",
       "(New York, 2000)       142467897\n",
       "(New York, 2010)      1937424222\n",
       "(Taiwan, 2000)          20851220\n",
       "(Taiwan, 2010)          22222261\n",
       "dtype: int64"
      ]
     },
     "metadata": {},
     "execution_count": 24
    }
   ],
   "source": [
    "index = [('California', 2000), ('California', 2010),\n",
    "         ('New York', 2000), ('New York', 2010),\n",
    "         ('Taiwan', 2000), ('Taiwan', 2010)]\n",
    "populations = [300000000, 3545788006,\n",
    "               142467897, 1937424222,\n",
    "               20851220, 22222261]\n",
    "pop = pd.Series(populations, index=index)\n",
    "pop"
   ]
  },
  {
   "cell_type": "code",
   "execution_count": 25,
   "metadata": {},
   "outputs": [
    {
     "output_type": "execute_result",
     "data": {
      "text/plain": [
       "(California, 2010)    3545788006\n",
       "(New York, 2000)       142467897\n",
       "(New York, 2010)      1937424222\n",
       "(Taiwan, 2000)          20851220\n",
       "dtype: int64"
      ]
     },
     "metadata": {},
     "execution_count": 25
    }
   ],
   "source": [
    "pop[('California', 2010):('Taiwan', 2000)]\n"
   ]
  },
  {
   "cell_type": "code",
   "execution_count": 26,
   "metadata": {},
   "outputs": [
    {
     "output_type": "execute_result",
     "data": {
      "text/plain": [
       "MultiIndex([('California', 2000),\n",
       "            ('California', 2010),\n",
       "            (  'New York', 2000),\n",
       "            (  'New York', 2010),\n",
       "            (    'Taiwan', 2000),\n",
       "            (    'Taiwan', 2010)],\n",
       "           )"
      ]
     },
     "metadata": {},
     "execution_count": 26
    }
   ],
   "source": [
    "# 建立多重 index\n",
    "index = pd.MultiIndex.from_tuples(index)\n",
    "index"
   ]
  },
  {
   "cell_type": "code",
   "execution_count": 27,
   "metadata": {},
   "outputs": [
    {
     "output_type": "execute_result",
     "data": {
      "text/plain": [
       "California  2000     300000000\n",
       "            2010    3545788006\n",
       "New York    2000     142467897\n",
       "            2010    1937424222\n",
       "Taiwan      2000      20851220\n",
       "            2010      22222261\n",
       "dtype: int64"
      ]
     },
     "metadata": {},
     "execution_count": 27
    }
   ],
   "source": [
    "# 使用多重 index\n",
    "pop = pop.reindex(index)\n",
    "pop"
   ]
  },
  {
   "cell_type": "code",
   "execution_count": 28,
   "metadata": {},
   "outputs": [
    {
     "output_type": "execute_result",
     "data": {
      "text/plain": [
       "California    300000000\n",
       "New York      142467897\n",
       "Taiwan         20851220\n",
       "dtype: int64"
      ]
     },
     "metadata": {},
     "execution_count": 28
    }
   ],
   "source": [
    "pop[:, 2000]"
   ]
  },
  {
   "cell_type": "code",
   "execution_count": 29,
   "metadata": {},
   "outputs": [
    {
     "output_type": "execute_result",
     "data": {
      "text/plain": [
       "                 2000        2010\n",
       "California  300000000  3545788006\n",
       "New York    142467897  1937424222\n",
       "Taiwan       20851220    22222261"
      ],
      "text/html": "<div>\n<style scoped>\n    .dataframe tbody tr th:only-of-type {\n        vertical-align: middle;\n    }\n\n    .dataframe tbody tr th {\n        vertical-align: top;\n    }\n\n    .dataframe thead th {\n        text-align: right;\n    }\n</style>\n<table border=\"1\" class=\"dataframe\">\n  <thead>\n    <tr style=\"text-align: right;\">\n      <th></th>\n      <th>2000</th>\n      <th>2010</th>\n    </tr>\n  </thead>\n  <tbody>\n    <tr>\n      <th>California</th>\n      <td>300000000</td>\n      <td>3545788006</td>\n    </tr>\n    <tr>\n      <th>New York</th>\n      <td>142467897</td>\n      <td>1937424222</td>\n    </tr>\n    <tr>\n      <th>Taiwan</th>\n      <td>20851220</td>\n      <td>22222261</td>\n    </tr>\n  </tbody>\n</table>\n</div>"
     },
     "metadata": {},
     "execution_count": 29
    }
   ],
   "source": [
    "# 把多重 Index 的最後一個 index 拉出作新欄位為\n",
    "pop_df = pop.unstack()\n",
    "pop_df"
   ]
  },
  {
   "cell_type": "code",
   "execution_count": 30,
   "metadata": {},
   "outputs": [
    {
     "output_type": "execute_result",
     "data": {
      "text/plain": [
       "California  2000     300000000\n",
       "            2010    3545788006\n",
       "New York    2000     142467897\n",
       "            2010    1937424222\n",
       "Taiwan      2000      20851220\n",
       "            2010      22222261\n",
       "dtype: int64"
      ]
     },
     "metadata": {},
     "execution_count": 30
    }
   ],
   "source": [
    "pop_df.stack()"
   ]
  },
  {
   "cell_type": "code",
   "execution_count": 10,
   "metadata": {},
   "outputs": [
    {
     "output_type": "execute_result",
     "data": {
      "text/plain": [
       "MultiIndex([('a', 1),\n",
       "            ('a', 2),\n",
       "            ('b', 1),\n",
       "            ('b', 2)],\n",
       "           )"
      ]
     },
     "metadata": {},
     "execution_count": 10
    }
   ],
   "source": [
    "# 建立多重 index 的三種方法\n",
    "pd.MultiIndex.from_arrays([['a', 'a', 'b', 'b'], [1, 2, 1, 2]])"
   ]
  },
  {
   "cell_type": "code",
   "execution_count": 11,
   "metadata": {},
   "outputs": [
    {
     "output_type": "execute_result",
     "data": {
      "text/plain": [
       "MultiIndex([('a', 1),\n",
       "            ('a', 2),\n",
       "            ('b', 1),\n",
       "            ('b', 2)],\n",
       "           )"
      ]
     },
     "metadata": {},
     "execution_count": 11
    }
   ],
   "source": [
    "pd.MultiIndex.from_tuples([('a', 1), ('a', 2), ('b', 1), ('b', 2)])\n"
   ]
  },
  {
   "cell_type": "code",
   "execution_count": 12,
   "metadata": {},
   "outputs": [
    {
     "output_type": "execute_result",
     "data": {
      "text/plain": [
       "MultiIndex([('a', 1),\n",
       "            ('a', 2),\n",
       "            ('b', 1),\n",
       "            ('b', 2)],\n",
       "           )"
      ]
     },
     "metadata": {},
     "execution_count": 12
    }
   ],
   "source": [
    "pd.MultiIndex.from_product([['a', 'b'], [1, 2]])\n"
   ]
  },
  {
   "cell_type": "code",
   "execution_count": 13,
   "metadata": {},
   "outputs": [
    {
     "output_type": "execute_result",
     "data": {
      "text/plain": [
       "subject      Bob       Guido         Sue      \n",
       "type          HR  Temp    HR  Temp    HR  Temp\n",
       "year visit                                    \n",
       "2013 1      50.0  37.3  44.0  36.0  24.0  35.7\n",
       "     2      40.0  37.7  29.0  38.2  39.0  37.6\n",
       "2014 1      24.0  37.4  36.0  36.2  49.0  37.4\n",
       "     2      48.0  37.2  50.0  38.0  53.0  37.1"
      ],
      "text/html": "<div>\n<style scoped>\n    .dataframe tbody tr th:only-of-type {\n        vertical-align: middle;\n    }\n\n    .dataframe tbody tr th {\n        vertical-align: top;\n    }\n\n    .dataframe thead tr th {\n        text-align: left;\n    }\n\n    .dataframe thead tr:last-of-type th {\n        text-align: right;\n    }\n</style>\n<table border=\"1\" class=\"dataframe\">\n  <thead>\n    <tr>\n      <th></th>\n      <th>subject</th>\n      <th colspan=\"2\" halign=\"left\">Bob</th>\n      <th colspan=\"2\" halign=\"left\">Guido</th>\n      <th colspan=\"2\" halign=\"left\">Sue</th>\n    </tr>\n    <tr>\n      <th></th>\n      <th>type</th>\n      <th>HR</th>\n      <th>Temp</th>\n      <th>HR</th>\n      <th>Temp</th>\n      <th>HR</th>\n      <th>Temp</th>\n    </tr>\n    <tr>\n      <th>year</th>\n      <th>visit</th>\n      <th></th>\n      <th></th>\n      <th></th>\n      <th></th>\n      <th></th>\n      <th></th>\n    </tr>\n  </thead>\n  <tbody>\n    <tr>\n      <th rowspan=\"2\" valign=\"top\">2013</th>\n      <th>1</th>\n      <td>50.0</td>\n      <td>37.3</td>\n      <td>44.0</td>\n      <td>36.0</td>\n      <td>24.0</td>\n      <td>35.7</td>\n    </tr>\n    <tr>\n      <th>2</th>\n      <td>40.0</td>\n      <td>37.7</td>\n      <td>29.0</td>\n      <td>38.2</td>\n      <td>39.0</td>\n      <td>37.6</td>\n    </tr>\n    <tr>\n      <th rowspan=\"2\" valign=\"top\">2014</th>\n      <th>1</th>\n      <td>24.0</td>\n      <td>37.4</td>\n      <td>36.0</td>\n      <td>36.2</td>\n      <td>49.0</td>\n      <td>37.4</td>\n    </tr>\n    <tr>\n      <th>2</th>\n      <td>48.0</td>\n      <td>37.2</td>\n      <td>50.0</td>\n      <td>38.0</td>\n      <td>53.0</td>\n      <td>37.1</td>\n    </tr>\n  </tbody>\n</table>\n</div>"
     },
     "metadata": {},
     "execution_count": 13
    }
   ],
   "source": [
    "# 建立行, 列分層索引\n",
    "index = pd.MultiIndex.from_product([[2013, 2014], [1, 2]],\n",
    "                                   names=['year', 'visit'])\n",
    "columns = pd.MultiIndex.from_product([['Bob', 'Guido', 'Sue'], ['HR', 'Temp']],\n",
    "                                     names=['subject', 'type'])\n",
    "# 建立數據\n",
    "data = np.round(np.random.randn(4, 6), 1)\n",
    "data[:, ::2] *= 10\n",
    "data += 37\n",
    "# 建立 DataFrame\n",
    "health_data = pd.DataFrame(data, index=index, columns=columns)\n",
    "health_data"
   ]
  },
  {
   "cell_type": "code",
   "execution_count": 14,
   "metadata": {},
   "outputs": [
    {
     "output_type": "execute_result",
     "data": {
      "text/plain": [
       "type          HR  Temp\n",
       "year visit            \n",
       "2013 1      44.0  36.0\n",
       "     2      29.0  38.2\n",
       "2014 1      36.0  36.2\n",
       "     2      50.0  38.0"
      ],
      "text/html": "<div>\n<style scoped>\n    .dataframe tbody tr th:only-of-type {\n        vertical-align: middle;\n    }\n\n    .dataframe tbody tr th {\n        vertical-align: top;\n    }\n\n    .dataframe thead th {\n        text-align: right;\n    }\n</style>\n<table border=\"1\" class=\"dataframe\">\n  <thead>\n    <tr style=\"text-align: right;\">\n      <th></th>\n      <th>type</th>\n      <th>HR</th>\n      <th>Temp</th>\n    </tr>\n    <tr>\n      <th>year</th>\n      <th>visit</th>\n      <th></th>\n      <th></th>\n    </tr>\n  </thead>\n  <tbody>\n    <tr>\n      <th rowspan=\"2\" valign=\"top\">2013</th>\n      <th>1</th>\n      <td>44.0</td>\n      <td>36.0</td>\n    </tr>\n    <tr>\n      <th>2</th>\n      <td>29.0</td>\n      <td>38.2</td>\n    </tr>\n    <tr>\n      <th rowspan=\"2\" valign=\"top\">2014</th>\n      <th>1</th>\n      <td>36.0</td>\n      <td>36.2</td>\n    </tr>\n    <tr>\n      <th>2</th>\n      <td>50.0</td>\n      <td>38.0</td>\n    </tr>\n  </tbody>\n</table>\n</div>"
     },
     "metadata": {},
     "execution_count": 14
    }
   ],
   "source": [
    "health_data['Guido']\n"
   ]
  },
  {
   "cell_type": "code",
   "execution_count": 15,
   "metadata": {},
   "outputs": [
    {
     "output_type": "execute_result",
     "data": {
      "text/plain": [
       "year  visit\n",
       "2013  1        44.0\n",
       "      2        29.0\n",
       "2014  1        36.0\n",
       "      2        50.0\n",
       "Name: (Guido, HR), dtype: float64"
      ]
     },
     "metadata": {},
     "execution_count": 15
    }
   ],
   "source": [
    "health_data['Guido', 'HR']\n"
   ]
  },
  {
   "cell_type": "code",
   "execution_count": 16,
   "metadata": {},
   "outputs": [
    {
     "output_type": "execute_result",
     "data": {
      "text/plain": [
       "subject      Bob      \n",
       "type          HR  Temp\n",
       "year visit            \n",
       "2013 1      50.0  37.3\n",
       "     2      40.0  37.7"
      ],
      "text/html": "<div>\n<style scoped>\n    .dataframe tbody tr th:only-of-type {\n        vertical-align: middle;\n    }\n\n    .dataframe tbody tr th {\n        vertical-align: top;\n    }\n\n    .dataframe thead tr th {\n        text-align: left;\n    }\n\n    .dataframe thead tr:last-of-type th {\n        text-align: right;\n    }\n</style>\n<table border=\"1\" class=\"dataframe\">\n  <thead>\n    <tr>\n      <th></th>\n      <th>subject</th>\n      <th colspan=\"2\" halign=\"left\">Bob</th>\n    </tr>\n    <tr>\n      <th></th>\n      <th>type</th>\n      <th>HR</th>\n      <th>Temp</th>\n    </tr>\n    <tr>\n      <th>year</th>\n      <th>visit</th>\n      <th></th>\n      <th></th>\n    </tr>\n  </thead>\n  <tbody>\n    <tr>\n      <th rowspan=\"2\" valign=\"top\">2013</th>\n      <th>1</th>\n      <td>50.0</td>\n      <td>37.3</td>\n    </tr>\n    <tr>\n      <th>2</th>\n      <td>40.0</td>\n      <td>37.7</td>\n    </tr>\n  </tbody>\n</table>\n</div>"
     },
     "metadata": {},
     "execution_count": 16
    }
   ],
   "source": [
    "health_data.iloc[:2, :2]\n"
   ]
  },
  {
   "cell_type": "code",
   "execution_count": null,
   "metadata": {},
   "outputs": [],
   "source": []
  }
 ]
}